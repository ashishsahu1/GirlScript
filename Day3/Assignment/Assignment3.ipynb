{
 "cells": [
  {
   "cell_type": "code",
   "execution_count": 23,
   "metadata": {},
   "outputs": [],
   "source": [
    "import cv2\n",
    "import numpy as np"
   ]
  },
  {
   "cell_type": "markdown",
   "metadata": {},
   "source": [
    "<h1>Dinosour outline</h1>"
   ]
  },
  {
   "cell_type": "code",
   "execution_count": 2,
   "metadata": {},
   "outputs": [],
   "source": [
    "img=cv2.imread('dn.png')\n",
    "cv2.imshow('Normal',img)\n",
    "\n",
    "edge=cv2.Canny(img,120,255)\n",
    "\n",
    "cv2.imshow('Edged',edge)\n",
    "\n",
    "cv2.waitKey(0)\n",
    "cv2.destroyAllWindows()"
   ]
  },
  {
   "cell_type": "code",
   "execution_count": 9,
   "metadata": {},
   "outputs": [],
   "source": [
    "''' Edge Detection With Blurring '''\n",
    "gaussian = cv2.GaussianBlur(img.copy(), (13,13), 0)\n",
    "edge = cv2.Canny(gaussian, 120, 255)\n",
    "cv2.imshow('edge', edge)\n",
    "\n",
    "cv2.waitKey(0)\n",
    "cv2.destroyAllWindows()"
   ]
  },
  {
   "cell_type": "markdown",
   "metadata": {},
   "source": [
    "<h1>Hand Contour</h1>"
   ]
  },
  {
   "cell_type": "code",
   "execution_count": 17,
   "metadata": {},
   "outputs": [],
   "source": [
    "img = cv2.imread('hand.jpeg')\n",
    "gray = cv2.cvtColor(img, cv2.COLOR_BGR2GRAY)\n",
    "cv2.imshow('Normal',img)\n",
    "\n",
    "# Finding Edges\n",
    "gaussian = cv2.GaussianBlur(gray.copy(), (11,11), 0)\n",
    "edge = cv2.Canny(gaussian, 0,150)\n",
    "cv2.imshow('edge', edge)\n",
    "cv2.waitKey(0)\n",
    "cv2.destroyAllWindows()"
   ]
  },
  {
   "cell_type": "code",
   "execution_count": 19,
   "metadata": {},
   "outputs": [
    {
     "name": "stdout",
     "output_type": "stream",
     "text": [
      "Numbers of contours are :  5\n"
     ]
    }
   ],
   "source": [
    "''' Returning only External Contours '''\n",
    "contours, hierarchy = cv2.findContours(edge, cv2.RETR_EXTERNAL, cv2.CHAIN_APPROX_NONE)\n",
    "print('Numbers of contours are : ', len(contours))\n",
    "cv2.drawContours(img, contours, -1, (0, 0, 255), 3)\n",
    "cv2.imshow('Image',img)\n",
    "\n",
    "cv2.waitKey(0)\n",
    "cv2.destroyAllWindows()"
   ]
  },
  {
   "cell_type": "markdown",
   "metadata": {},
   "source": [
    "<h1>Live Sketcher</h1>"
   ]
  },
  {
   "cell_type": "code",
   "execution_count": 20,
   "metadata": {},
   "outputs": [],
   "source": [
    "cap = cv2.VideoCapture(0)\n",
    "\n",
    "while True:\n",
    "\tret, frame = cap.read()                        # Reading the Frame\n",
    "\tgray = cv2.cvtColor(frame, cv2.COLOR_BGR2GRAY)# Converting it to GrayScale\n",
    "\tblur = cv2.GaussianBlur(gray , (5,5), 0)     #  Blurring\n",
    "\tedge = cv2.Canny(blur, 70, 110)             #   Finding Edges\n",
    "\tret, thresh = cv2.threshold(edge, 170, 255, cv2.THRESH_BINARY_INV)  # Thresholding\n",
    "\tcv2.imshow(\"Thresh\",thresh)\n",
    "\n",
    "\tif cv2.waitKey(33) == 27:\n",
    "\t\tbreak;\n",
    "cap.release()\n",
    "cv2.destroyAllWindows()"
   ]
  },
  {
   "cell_type": "markdown",
   "metadata": {},
   "source": [
    "<h1>colour seperater</h1>"
   ]
  },
  {
   "cell_type": "code",
   "execution_count": 25,
   "metadata": {},
   "outputs": [
    {
     "name": "stdout",
     "output_type": "stream",
     "text": [
      "980700\n"
     ]
    }
   ],
   "source": [
    "filter=cv2.imread('rgb.jpg')\n",
    "print(filter.size)\n",
    "filter = cv2.resize(filter, (300,300))\n",
    "# It converts the BGR color space of image to HSV color space \n",
    "hsv = cv2.cvtColor(filter, cv2.COLOR_BGR2HSV) \n",
    "    \n",
    "# Threshold of blue in HSV space \n",
    "lower_blue = np.array([35, 140, 60])         # blue - lower = 35\n",
    "upper_blue = np.array([255, 255, 180])      #  blue - upper = 255\n",
    " # preparing the mask to overlay \n",
    "mask = cv2.inRange(hsv, lower_blue, upper_blue) \n",
    " \n",
    "# The black region in the mask has the value of 0, \n",
    "# so when multiplied with original image removes all non-blue regions \n",
    "result = cv2.bitwise_and(filter, filter, mask = mask) \n",
    "cv2.imshow('Filtered',filter)\n",
    "cv2.imshow('Masked',mask)\n",
    "#cv2.imshow('Result of bitwise',result)\n",
    "cv2.waitKey(0)\n",
    "cv2.destroyAllWindows()\n"
   ]
  },
  {
   "cell_type": "code",
   "execution_count": null,
   "metadata": {},
   "outputs": [],
   "source": []
  }
 ],
 "metadata": {
  "kernelspec": {
   "display_name": "Python 3",
   "language": "python",
   "name": "python3"
  },
  "language_info": {
   "codemirror_mode": {
    "name": "ipython",
    "version": 3
   },
   "file_extension": ".py",
   "mimetype": "text/x-python",
   "name": "python",
   "nbconvert_exporter": "python",
   "pygments_lexer": "ipython3",
   "version": "3.7.7"
  }
 },
 "nbformat": 4,
 "nbformat_minor": 4
}
