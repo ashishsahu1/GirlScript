{
 "cells": [
  {
   "cell_type": "code",
   "execution_count": 1,
   "metadata": {},
   "outputs": [],
   "source": [
    "import cv2\n",
    "import numpy as np"
   ]
  },
  {
   "cell_type": "code",
   "execution_count": 2,
   "metadata": {},
   "outputs": [
    {
     "name": "stdout",
     "output_type": "stream",
     "text": [
      "980700\n"
     ]
    }
   ],
   "source": [
    "filter=cv2.imread('rgb.jpg')\n",
    "print(filter.size)\n",
    "filter = cv2.resize(filter, (300,300))\n",
    "# It converts the BGR color space of image to HSV color space \n",
    "hsv = cv2.cvtColor(filter, cv2.COLOR_BGR2HSV) \n",
    "    \n",
    "# Threshold of blue in HSV space \n",
    "lower_blue = np.array([35, 140, 60])         # blue - lower = 35\n",
    "upper_blue = np.array([255, 255, 180])      #  blue - upper = 255\n",
    " # preparing the mask to overlay \n",
    "mask = cv2.inRange(hsv, lower_blue, upper_blue) \n",
    " \n",
    "# The black region in the mask has the value of 0, \n",
    "# so when multiplied with original image removes all non-blue regions \n",
    "result = cv2.bitwise_and(filter, filter, mask = mask) \n",
    "cv2.imshow('Filtered',filter)\n",
    "cv2.imshow('Masked',mask)\n",
    "cv2.imshow('Result of bitwise',result)\n",
    "cv2.waitKey(0)\n",
    "cv2.destroyAllWindows()\n"
   ]
  },
  {
   "cell_type": "markdown",
   "metadata": {},
   "source": [
    "# 1. Smoothing And Blurring\n",
    "- Averaging\n",
    "- Gaussian\n",
    "- Median\n",
    "- Bilateral"
   ]
  },
  {
   "cell_type": "markdown",
   "metadata": {},
   "source": [
    "Blurring means that each pixel in the image is mixed in with its surrounding pixel intensities.<br>\n",
    "This “mixture” of pixels in a neighborhood becomes our blurred pixel"
   ]
  },
  {
   "cell_type": "markdown",
   "metadata": {},
   "source": [
    "Gaussian Blur\n",
    "Blurring function needs a kernel\n",
    "\n"
   ]
  },
  {
   "cell_type": "code",
   "execution_count": 3,
   "metadata": {},
   "outputs": [],
   "source": [
    "img=cv2.imread('pt.jpg')\n",
    "gausImg=cv2.GaussianBlur(img,(9,9),0)\n",
    "\n",
    "cv2.imshow('Normal',img)\n",
    "cv2.imshow('Blurred',gausImg)\n",
    "cv2.waitKey(0)\n",
    "cv2.destroyAllWindows()"
   ]
  },
  {
   "cell_type": "markdown",
   "metadata": {},
   "source": [
    "# 2. THRESHOLDING\n",
    "<h3>Thresholding is the binarization of an image.</h3><br>\n",
    "In general, we seek to convert a grayscale image to a binary image, where the pixels are either 0 or 255.<br>\n",
    "A simple thresholding example would be selecting a pixel value p,<br>\n",
    "and then setting all pixel intensities less than p to zero, <br>\n",
    "and all pixel values greater than p to 255.<br>\n",
    "In this way,we are able to create a binary representation of the image."
   ]
  },
  {
   "cell_type": "markdown",
   "metadata": {},
   "source": [
    "<b>Note: </b> Basically we provide a threshold value and everythin that is above that value whould be 255(maximum) and the values below it will be 0(minimum)"
   ]
  },
  {
   "cell_type": "code",
   "execution_count": 4,
   "metadata": {},
   "outputs": [],
   "source": [
    "''' Loading Image and Converting it into Grayscale '''\n",
    "img=cv2.imread('pt.jpg',0)\n",
    "cv2.imshow('Image',img)\n",
    "\n",
    "''' Performing Thresholding '''\n",
    "\n",
    "ret, threshold = cv2.threshold(img, 127, 255, cv2.THRESH_BINARY)\n",
    "cv2.imshow('Threshold',threshold)\n",
    "#cv2.threshold() expect src image as greyscale\n",
    "\n",
    "cv2.waitKey(0)\n",
    "cv2.destroyAllWindows()"
   ]
  },
  {
   "cell_type": "markdown",
   "metadata": {},
   "source": [
    "# 3. Canny Edge Detection\n",
    "Canny Edge Detection is a popular edge detection algorithm.<br>\n",
    "It was developed by John F. Canny<br>\n",
    "Edge detection is useful for finding boundaries of objects in an image<br>\n",
    "\n",
    "<h3>Cv2.canny(img, min_value, max_value)</h3>"
   ]
  },
  {
   "cell_type": "code",
   "execution_count": 17,
   "metadata": {},
   "outputs": [],
   "source": [
    "img=cv2.imread('pt.jpg')\n",
    "cv2.imshow('Normal',img)\n",
    "\n",
    "edge=cv2.Canny(img,120,255)\n",
    "\n",
    "cv2.imshow('Edged',edge)\n",
    "\n",
    "cv2.waitKey(0)\n",
    "cv2.destroyAllWindows()"
   ]
  },
  {
   "cell_type": "markdown",
   "metadata": {},
   "source": [
    "Any gradient value larger than threshold2 is considered to be an edge.<br>\n",
    "Any value below threshold1 is considered not to be an edge. <br>\n",
    "Values in between threshold1 and threshold2 are either classified as edges or non-edges\n",
    "based on how their intensities are “connected”."
   ]
  },
  {
   "cell_type": "code",
   "execution_count": 19,
   "metadata": {},
   "outputs": [],
   "source": [
    "''' Edge Detection With Blurring '''\n",
    "gaussian = cv2.GaussianBlur(img.copy(), (5,5), 0)\n",
    "edge = cv2.Canny(gaussian, 120, 255)\n",
    "cv2.imshow('edge', edge)\n",
    "\n",
    "cv2.waitKey(0)\n",
    "cv2.destroyAllWindows()"
   ]
  },
  {
   "cell_type": "markdown",
   "metadata": {},
   "source": [
    "# 4. Contours\n",
    "OpenCV provides methods to find “curves” in an image, called contours.<br>\n",
    "A contour is a curve of points, with no gaps in the curve, having same color or intensity <br>\n",
    "Contours are extremely useful for such things as shape approximation and analysis."
   ]
  },
  {
   "cell_type": "markdown",
   "metadata": {},
   "source": [
    "''' cv2.findContours(img, retrieval_mode, approximation_mode)\n",
    "\n",
    "    retrieval_mode : external - stores only extrnal contours\n",
    "                     list     - stores all contours\n",
    "\n",
    "    approximation method : chain approx none - stores all boundary points\n",
    "                           chain approx simple - stores only start and ending points\n",
    "'''"
   ]
  },
  {
   "cell_type": "code",
   "execution_count": 31,
   "metadata": {},
   "outputs": [],
   "source": [
    "img = cv2.imread('sp.jpeg')\n",
    "gray = cv2.cvtColor(img, cv2.COLOR_BGR2GRAY)\n",
    "cv2.imshow('Normal',img)\n",
    "\n",
    "# Finding Edges\n",
    "edge = cv2.Canny(gray, 100, 200)\n",
    "cv2.imshow('edge', edge)\n",
    "cv2.waitKey(0)\n",
    "cv2.destroyAllWindows()"
   ]
  },
  {
   "cell_type": "code",
   "execution_count": 32,
   "metadata": {},
   "outputs": [
    {
     "name": "stdout",
     "output_type": "stream",
     "text": [
      "Numbers of contours are :  166\n"
     ]
    }
   ],
   "source": [
    "''' Returning only External Contours '''\n",
    "contours, hierarchy = cv2.findContours(edge, cv2.RETR_EXTERNAL, cv2.CHAIN_APPROX_NONE)\n",
    "print('Numbers of contours are : ', len(contours))\n",
    "cv2.drawContours(img, contours, -1, (0, 0, 255), 3)\n",
    "cv2.imshow('Image',img)\n",
    "\n",
    "cv2.waitKey(0)\n",
    "cv2.destroyAllWindows()"
   ]
  },
  {
   "cell_type": "code",
   "execution_count": null,
   "metadata": {},
   "outputs": [],
   "source": []
  }
 ],
 "metadata": {
  "kernelspec": {
   "display_name": "Python 3",
   "language": "python",
   "name": "python3"
  },
  "language_info": {
   "codemirror_mode": {
    "name": "ipython",
    "version": 3
   },
   "file_extension": ".py",
   "mimetype": "text/x-python",
   "name": "python",
   "nbconvert_exporter": "python",
   "pygments_lexer": "ipython3",
   "version": "3.7.7"
  }
 },
 "nbformat": 4,
 "nbformat_minor": 4
}
